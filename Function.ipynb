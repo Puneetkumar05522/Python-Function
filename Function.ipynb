{
 "cells": [
  {
   "cell_type": "code",
   "execution_count": 1,
   "metadata": {},
   "outputs": [],
   "source": [
    "#Function\n",
    "#A function is a block of code which only runs when it is called.\n",
    "#Creating a Function.\n",
    "#In Python a function is defined using the def keyword:\n",
    "\n",
    "def my_function():\n",
    "    print(\"Hello from a function\")\n",
    "    "
   ]
  },
  {
   "cell_type": "code",
   "execution_count": 3,
   "metadata": {},
   "outputs": [
    {
     "name": "stdout",
     "output_type": "stream",
     "text": [
      "Hello from a function\n"
     ]
    }
   ],
   "source": [
    "#Calling a Function\n",
    "#To call a function, use the function name followed by parenthesis:\n",
    "\n",
    "my_function()"
   ]
  },
  {
   "cell_type": "code",
   "execution_count": 14,
   "metadata": {},
   "outputs": [
    {
     "name": "stdout",
     "output_type": "stream",
     "text": [
      "Puneet Kumar\n",
      "ajeet Kumar\n",
      "Deepak Kumar\n"
     ]
    }
   ],
   "source": [
    "#'''Information can be passed into functions as arguments.\n",
    "#Arguments are specified after the function name, \n",
    "#inside the parentheses. You can add as many arguments\n",
    " #as you want, just separate them with a comma.\n",
    "\n",
    "#The following example has a function with one \n",
    "#argument (fname). When the function is called, \n",
    "#we pass along a first name, which is used inside \n",
    "#the function to print the full name:\n",
    "\n",
    "\n",
    "def my_function(fname):\n",
    "    print(fname + \" \" \"Kumar\")\n",
    "my_function(\"Puneet\")\n",
    "my_function(\"ajeet\")\n",
    "my_function(\"Deepak\")\n"
   ]
  },
  {
   "cell_type": "code",
   "execution_count": 15,
   "metadata": {},
   "outputs": [],
   "source": [
    "#Parameters or Arguments?\n",
    "#The terms parameter and argument can be used for the same thing: information that are passed into a function.\n"
   ]
  },
  {
   "cell_type": "code",
   "execution_count": 17,
   "metadata": {},
   "outputs": [
    {
     "name": "stdout",
     "output_type": "stream",
     "text": [
      "puneet kumar\n"
     ]
    }
   ],
   "source": [
    "#Number of Arguments..\n",
    "#By default, a function must be called with the correct number of arguments. Meaning that if your function expects 2 arguments, you have to call the function with 2 arguments, not more, and not less.\n",
    "\n",
    "def my_function(fname,lname):\n",
    "    print(fname + \" \" + lname)\n",
    "my_function(\"puneet\",\"kumar\")\n",
    "\n"
   ]
  },
  {
   "cell_type": "code",
   "execution_count": 27,
   "metadata": {},
   "outputs": [
    {
     "name": "stdout",
     "output_type": "stream",
     "text": [
      "The youngest child is puneet\n"
     ]
    }
   ],
   "source": [
    "#Arbitrary Arguments, *args\n",
    "#If you do not know how many arguments that will be passed into your function, add a * before the parameter name in the function definition.\n",
    "#If the number of arguments is unknown, add a * before the parameter name:\n",
    "\n",
    "def my_function(*kids):\n",
    "    print(\"The youngest child is \" + kids[0])\n",
    "my_function(\"puneet\",\"ajeet\",\"deepak\")"
   ]
  }
 ],
 "metadata": {
  "kernelspec": {
   "display_name": "Python 3",
   "language": "python",
   "name": "python3"
  },
  "language_info": {
   "codemirror_mode": {
    "name": "ipython",
    "version": 3
   },
   "file_extension": ".py",
   "mimetype": "text/x-python",
   "name": "python",
   "nbconvert_exporter": "python",
   "pygments_lexer": "ipython3",
   "version": "3.11.1"
  },
  "orig_nbformat": 4,
  "vscode": {
   "interpreter": {
    "hash": "7e5c0badbb2d24bbc3f94f0128230c51073dab69f6205fe8338cbe6039d785c3"
   }
  }
 },
 "nbformat": 4,
 "nbformat_minor": 2
}
